{
  "nbformat": 4,
  "nbformat_minor": 0,
  "metadata": {
    "colab": {
      "provenance": []
    },
    "kernelspec": {
      "name": "python3",
      "display_name": "Python 3"
    },
    "language_info": {
      "name": "python"
    }
  },
  "cells": [
    {
      "cell_type": "markdown",
      "source": [
        "THEORICAL QUESTIONS"
      ],
      "metadata": {
        "id": "CHWZkN87s0k5"
      }
    },
    {
      "cell_type": "code",
      "execution_count": null,
      "metadata": {
        "id": "DTeNdtaZswt9"
      },
      "outputs": [],
      "source": [
        "1. What is NumPy, and why is it widely used in Python?\n",
        "Answer:\n",
        "\n",
        "NumPy (Numerical Python) is a fundamental library in Python for numerical computing. Think of it as a super-efficient way to handle large collections of numbers (arrays) in Python. It's widely used because:\n",
        "\n",
        "Speed: It's incredibly fast, much faster than standard Python lists for numerical operations, thanks to its underlying C implementations.\n",
        "\n",
        "Efficiency: It uses less memory to store data.\n",
        "\n",
        "Powerful Operations: It provides a vast array of mathematical functions to perform operations on these arrays, from basic arithmetic to advanced linear algebra.\n",
        "\n",
        "Foundation: Many other popular Python data science libraries (like Pandas and SciPy) are built on top of NumPy, making it an essential building block."
      ]
    },
    {
      "cell_type": "code",
      "source": [
        "2. How does broadcasting work in NumPy?\n",
        "Answer:\n",
        "\n",
        "Broadcasting in NumPy is like a smart way to perform operations on arrays of different shapes. Instead of having to explicitly make arrays the same size before an operation (like adding them together), NumPy automatically \"stretches\" or \"duplicates\" the smaller array's dimensions to match the larger one, without actually creating copies in memory. It follows specific rules to determine if and how arrays can be broadcast. It's a powerful feature that makes code more concise and efficient."
      ],
      "metadata": {
        "id": "3DdNUflstAE7"
      },
      "execution_count": null,
      "outputs": []
    },
    {
      "cell_type": "code",
      "source": [
        "3. What is a Pandas DataFrame?\n",
        "Answer:\n",
        "\n",
        "A Pandas DataFrame is like a spreadsheet or a table in a database. It's a two-dimensional, labeled data structure with columns that can hold different data types (numbers, text, booleans, etc.). Imagine an Excel sheet where each column has a name and each row has an index. DataFrames are incredibly versatile for storing and manipulating tabular data, making them central to data analysis in Python."
      ],
      "metadata": {
        "id": "i72AmtUqtNbw"
      },
      "execution_count": null,
      "outputs": []
    },
    {
      "cell_type": "code",
      "source": [
        "4. Explain the use of the groupby() method in Pandas.\n",
        "Answer:\n",
        "\n",
        "The groupby() method in Pandas is used to split your data into groups based on some criteria, apply a function to each group independently, and then combine the results. Think of it as summarizing data. For example, if you have sales data, you could use groupby() to find the total sales for each product, or the average sales per region. It's a powerful tool for aggregation and analysis."
      ],
      "metadata": {
        "id": "JBRY7VwQtTkE"
      },
      "execution_count": null,
      "outputs": []
    },
    {
      "cell_type": "code",
      "source": [
        "5. Why is Seaborn preferred for statistical visualization?\n",
        "Answer:\n",
        "\n",
        "Seaborn is a Python data visualization library built on top of Matplotlib. It's preferred for statistical visualization because:\n",
        "\n",
        "High-Level Interface: It offers a higher-level interface for drawing attractive and informative statistical graphics. You can create complex plots with fewer lines of code.\n",
        "\n",
        "Aesthetics: It has beautiful default styles and color palettes, making your plots look professional without much effort.\n",
        "\n",
        "Statistical Focus: It's specifically designed for statistical plotting, providing functions for things like regression plots, distribution plots, heatmaps, and more, which are common in statistical analysis.\n",
        "\n",
        "Integration with Pandas: It works seamlessly with Pandas DataFrames, allowing you to easily plot data directly from your DataFrames."
      ],
      "metadata": {
        "id": "fX66dcd1tZX3"
      },
      "execution_count": null,
      "outputs": []
    },
    {
      "cell_type": "code",
      "source": [
        "6. What are the differences between NumPy arrays and Python lists?\n",
        "Answer:\n",
        "\n",
        "Data Type: NumPy arrays can only store elements of the same data type (e.g., all integers or all floats), which makes them very efficient. Python lists can store elements of different data types (e.g., an integer, a string, and a float in the same list).\n",
        "\n",
        "Performance: NumPy arrays are significantly faster for numerical operations, especially on large datasets, due to their fixed type and optimized C implementations. Python lists are slower for numerical computations.\n",
        "\n",
        "Memory Usage: NumPy arrays are more memory-efficient.\n",
        "\n",
        "Functionality: NumPy provides a vast collection of mathematical functions that can be applied directly to entire arrays. Python lists have more general-purpose methods.\n",
        "\n",
        "Use Case: NumPy arrays are ideal for numerical computing and scientific applications. Python lists are more general-purpose for storing collections of items."
      ],
      "metadata": {
        "id": "tbeasc6QteZJ"
      },
      "execution_count": null,
      "outputs": []
    },
    {
      "cell_type": "code",
      "source": [
        "7. What is a heatmap, and when should it be used?\n",
        "Answer:\n",
        "\n",
        "A heatmap is a graphical representation of data where individual values in a matrix are represented as colors. It's like a colored grid where the intensity of the color indicates the magnitude of the value. You should use a heatmap when:\n",
        "\n",
        "You want to visualize the relationships or correlations between two variables (e.g., a correlation matrix).\n",
        "\n",
        "You have a large matrix of numbers and want to quickly spot patterns, clusters, or outliers.\n",
        "\n",
        "You want to show the intensity or density of data points in a two-dimensional space."
      ],
      "metadata": {
        "id": "P4quoLVQt7Av"
      },
      "execution_count": null,
      "outputs": []
    },
    {
      "cell_type": "code",
      "source": [
        "8. What does the term \"vectorized operation\" mean in NumPy?\n",
        "Answer:\n",
        "\n",
        "\"Vectorized operation\" in NumPy means performing an operation on an entire array at once, rather than iterating through individual elements using a Python loop. For example, if you want to add 5 to every number in an array, a vectorized operation would be array + 5. NumPy handles this operation very efficiently at the C level, making it much faster than writing a Python for loop to achieve the same result. It's about operating on whole \"vectors\" or \"matrices\" rather than scalars."
      ],
      "metadata": {
        "id": "W_fGpas6t_6I"
      },
      "execution_count": null,
      "outputs": []
    },
    {
      "cell_type": "code",
      "source": [
        "9. How does Matplotlib differ from Plotly?\n",
        "Answer:\n",
        "\n",
        "Both Matplotlib and Plotly are Python libraries for creating visualizations, but they differ in their approach and capabilities:\n",
        "\n",
        "Matplotlib:\n",
        "\n",
        "Foundation: It's the foundational plotting library in Python. Many other libraries are built on top of it.\n",
        "\n",
        "Control: Offers fine-grained control over every aspect of a plot.\n",
        "\n",
        "Static Plots: Primarily generates static, publication-quality plots (PNG, PDF, etc.). While it has some interactive features, they are not its primary strength.\n",
        "\n",
        "Code-Intensive: Can sometimes require more lines of code for complex plots.\n",
        "\n",
        "Plotly:\n",
        "\n",
        "Interactivity: Designed for creating interactive, web-based visualizations. You can zoom, pan, hover, and animate plots directly in a web browser or Jupyter notebook.\n",
        "\n",
        "Online/Offline: Can work online (publishing to Plotly's platform) or offline.\n",
        "\n",
        "Declarative: Often uses a more declarative approach to plotting, defining what you want rather than how to draw every pixel.\n",
        "\n",
        "Dashboarding: Well-suited for building interactive dashboards and web applications."
      ],
      "metadata": {
        "id": "GBdQxzn2uGM3"
      },
      "execution_count": null,
      "outputs": []
    },
    {
      "cell_type": "code",
      "source": [
        "10. What is the significance of hierarchical indexing in Pandas?\n",
        "Answer:\n",
        "\n",
        "Hierarchical indexing (also known as MultiIndex) in Pandas allows you to have multiple levels of indexes on an axis (rows or columns). Its significance is:\n",
        "\n",
        "Handling Complex Data: It enables you to represent and analyze data with higher dimensionality in a two-dimensional DataFrame, without having to reshape your data.\n",
        "\n",
        "Natural Grouping: It provides a natural way to group data based on multiple categories.\n",
        "\n",
        "Efficient Subsetting: Makes it easier and more intuitive to select or slice subsets of data based on various levels of the index.\n",
        "\n",
        "Reshaping Operations: Crucial for operations like unstack() and stack() which pivot data between wide and long formats."
      ],
      "metadata": {
        "id": "84EZqx1uuKSC"
      },
      "execution_count": null,
      "outputs": []
    },
    {
      "cell_type": "code",
      "source": [
        "11.What is the role of Seaborn's pairplot() function?\n",
        "Answer:\n",
        "\n",
        "Seaborn's pairplot() function is used to create a grid of pairwise relationships in a dataset. It's a very quick way to get an overview of your data and the relationships between its numerical variables.\n",
        "\n",
        "Diagonal: On the diagonal, it typically shows the distribution of each variable (e.g., a histogram or KDE plot).\n",
        "\n",
        "Off-Diagonal: On the off-diagonal, it shows scatter plots for each pair of variables, allowing you to see their correlation and patterns.\n",
        "\n",
        "Categorical Variables: You can also color-code points based on a categorical variable, which helps in identifying differences across groups."
      ],
      "metadata": {
        "id": "7dCCaH2suPb2"
      },
      "execution_count": null,
      "outputs": []
    },
    {
      "cell_type": "code",
      "source": [
        "12. What is the purpose of the describe() function in Pandas?\n",
        "Answer:\n",
        "\n",
        "The describe() function in Pandas is used to generate descriptive statistics of your DataFrame or Series. It provides a quick summary of the central tendency, dispersion, and shape of the distribution of a dataset. For numerical data, it returns:\n",
        "\n",
        "count: Number of non-null observations\n",
        "\n",
        "mean: Average\n",
        "\n",
        "std: Standard deviation\n",
        "\n",
        "min: Minimum value\n",
        "\n",
        "25%: 25th percentile (Q1)\n",
        "\n",
        "50%: 50th percentile (median)\n",
        "\n",
        "75%: 75th percentile (Q3)\n",
        "\n",
        "max: Maximum value For object (string) or categorical data, it returns count, unique, top, and freq. It's your first stop for understanding the basic characteristics of your data."
      ],
      "metadata": {
        "id": "AXQpjQt_uWSm"
      },
      "execution_count": null,
      "outputs": []
    },
    {
      "cell_type": "code",
      "source": [
        "13. Why is handling missing data important in Pandas?\n",
        "Answer:\n",
        "\n",
        "Handling missing data is crucial in Pandas (and data analysis in general) because:\n",
        "\n",
        "Bias: Missing data can introduce bias into your analysis, leading to inaccurate conclusions.\n",
        "\n",
        "Model Performance: Many machine learning algorithms cannot handle missing values directly and will either throw errors or produce poor results.\n",
        "\n",
        "Integrity of Results: If not addressed, missing data can compromise the integrity and reliability of your statistical calculations and visualizations.\n",
        "\n",
        "Data Quality: It's a key aspect of data cleaning and ensuring the overall quality of your dataset"
      ],
      "metadata": {
        "id": "TNcFKeG5uaZo"
      },
      "execution_count": null,
      "outputs": []
    },
    {
      "cell_type": "code",
      "source": [
        "14. What are the benefits of using Plotly for data visualization?\n",
        "Answer:\n",
        "\n",
        "The main benefits of using Plotly for data visualization include:\n",
        "\n",
        "Interactivity: Creates interactive plots that allow users to zoom, pan, hover for details, and select data points directly in the browser. This is a huge advantage for exploration and presentations.\n",
        "\n",
        "Web-Based: Generates HTML output, making plots easily shareable and embeddable in web applications, dashboards, and reports without needing specific software.\n",
        "\n",
        "Rich Plot Types: Supports a wide range of plot types, including 3D plots, statistical charts, financial charts, and more.\n",
        "\n",
        "Python Integration: Excellent integration with Python (and R, JavaScript, etc.), allowing for programmatic generation of complex visualizations.\n",
        "\n",
        "Dash Integration: Works seamlessly with Dash, Plotly's framework for building analytical web applications."
      ],
      "metadata": {
        "id": "iylW2govug1R"
      },
      "execution_count": null,
      "outputs": []
    },
    {
      "cell_type": "code",
      "source": [
        "15. How does NumPy handle multidimensional arrays?\n",
        "Answer:\n",
        "\n",
        "NumPy's core strength lies in its efficient handling of multidimensional arrays, which are called ndarray objects. It treats arrays as contiguous blocks of memory, allowing for highly optimized operations.\n",
        "\n",
        "Shape: Each ndarray has a shape attribute that defines its dimensions (e.g., a 2D array might have a shape of (rows, columns)).\n",
        "\n",
        "Indexing and Slicing: You can access elements or subsets of these arrays using familiar bracket notation with multiple indices (e.g., arr[row, column]) or advanced slicing techniques.\n",
        "\n",
        "Mathematical Operations: Most NumPy functions and operations are designed to work directly on these multidimensional arrays element-wise, or according to broadcasting rules, without requiring explicit loops. This makes operations like matrix multiplication, element-wise addition, and transposing very straightforward and fast."
      ],
      "metadata": {
        "id": "HY-njzrOump3"
      },
      "execution_count": null,
      "outputs": []
    },
    {
      "cell_type": "code",
      "source": [
        "16. What is the role of Bokeh in data visualization?\n",
        "Answer:\n",
        "\n",
        "Bokeh is a Python library for creating interactive visualizations for modern web browsers. Its role is to enable the creation of highly interactive, web-based plots and dashboards directly from Python code.\n",
        "\n",
        "Interactivity: Similar to Plotly, Bokeh focuses on interactivity, allowing for custom interactions, widgets, and dynamic updates.\n",
        "\n",
        "Streaming Data: It's particularly well-suited for visualizing streaming or large datasets efficiently.\n",
        "\n",
        "Customization: Offers extensive customization options for plot appearance and behavior.\n",
        "\n",
        "Standalone HTML/Server: Can generate standalone HTML files, or be integrated into web applications via a Bokeh server for more complex, dynamic dashboards."
      ],
      "metadata": {
        "id": "CMJmIuhSuvBD"
      },
      "execution_count": null,
      "outputs": []
    },
    {
      "cell_type": "code",
      "source": [
        "17. Explain the difference between apply() and map() in Pandas.\n",
        "Answer:\n",
        "\n",
        "apply():\n",
        "\n",
        "Purpose: More general-purpose. Can be applied to a Series, DataFrame row-wise, or DataFrame column-wise.\n",
        "\n",
        "Usage: Often used when you need to apply a function that operates on an entire Series (e.g., calculate a statistic for each column) or on each row of a DataFrame.\n",
        "\n",
        "Flexibility: The function passed to apply() can accept a Series or a DataFrame row/column as input.\n",
        "\n",
        "map():\n",
        "\n",
        "Purpose: Specifically designed for Series. Used to substitute each value in a Series with another value.\n",
        "\n",
        "Usage: Ideal for element-wise mapping or transformation, like replacing values based on a dictionary or another Series.\n",
        "\n",
        "Input: The function or dictionary passed to map() operates on individual elements.\n",
        "\n",
        "In short: map() is for element-wise transformations on a Series. apply() is more versatile and can operate on Series, rows, or columns, often for more complex transformations or aggregations."
      ],
      "metadata": {
        "id": "S_SoUzRguzSA"
      },
      "execution_count": null,
      "outputs": []
    },
    {
      "cell_type": "code",
      "source": [
        "18. What are some advanced features of NumPy?\n",
        "Answer:\n",
        "\n",
        "Beyond basic array operations, some advanced features of NumPy include:\n",
        "\n",
        "Universal Functions (ufuncs): Highly optimized C functions that operate element-wise on arrays. They support broadcasting and provide significant speedups.\n",
        "\n",
        "Linear Algebra: Comprehensive set of functions for linear algebra operations (e.g., matrix multiplication, determinants, eigenvalues, singular value decomposition).\n",
        "\n",
        "Random Number Generation: Sophisticated tools for generating various types of random numbers and distributions.\n",
        "\n",
        "Broadcasting Rules: Complex broadcasting rules allow operations between arrays of different shapes.\n",
        "\n",
        "Memory Management (Views vs. Copies): Understanding when operations return a \"view\" (no new memory allocated) versus a \"copy\" (new memory allocated) is crucial for performance and avoiding unexpected side effects.\n",
        "\n",
        "Structured Arrays: Arrays that can hold data of different types, similar to C structs or database rows, but still within the ndarray framework.\n",
        "\n",
        "Fancy Indexing and Boolean Indexing: Powerful ways to select non-contiguous elements or elements based on a condition."
      ],
      "metadata": {
        "id": "BMOGZdDLu3yO"
      },
      "execution_count": null,
      "outputs": []
    },
    {
      "cell_type": "code",
      "source": [
        "19. How does Pandas simplify time series analysis?\n",
        "Answer:\n",
        "\n",
        "Pandas significantly simplifies time series analysis through:\n",
        "\n",
        "DatetimeIndex: Its specialized DatetimeIndex allows for powerful and intuitive indexing, slicing, and resampling of time-stamped data.\n",
        "\n",
        "Resampling: Easily change the frequency of time series data (e.g., from daily to monthly, or vice versa) using methods like resample().\n",
        "\n",
        "Time-aware Operations: Built-in functions for time-aware operations like shift(), diff(), and rolling window calculations (e.g., rolling().mean()).\n",
        "\n",
        "Missing Data Handling: Robust tools for handling missing values in time series (e.g., fillna(), bfill(), ffill()).\n",
        "\n",
        "Offsets and Frequencies: Support for various date and time offsets and frequencies (e.g., 'D' for daily, 'M' for monthly, 'H' for hourly).\n",
        "\n",
        "Plotting Integration: Seamless integration with Matplotlib and other plotting libraries for visualizing time series."
      ],
      "metadata": {
        "id": "QpWosQNcu8a5"
      },
      "execution_count": null,
      "outputs": []
    },
    {
      "cell_type": "code",
      "source": [
        "20. What is the role of a pivot table in Pandas?\n",
        "Answer:\n",
        "\n",
        "A pivot table in Pandas is a powerful tool used to summarize and reorganize data in a DataFrame. Its role is to:\n",
        "\n",
        "Aggregate Data: Allow you to aggregate data (e.g., sum, mean, count) based on one or more \"pivot\" columns.\n",
        "\n",
        "Reshape Data: Transform \"long\" format data into a \"wide\" format, making it easier to analyze relationships between different variables.\n",
        "\n",
        "Multi-level Summaries: Create multi-level row and column indexes for complex summaries, enabling you to slice and dice data from different perspectives.\n",
        "\n",
        "Reporting: Ideal for generating summary reports and cross-tabulations, similar to pivot tables in spreadsheet software."
      ],
      "metadata": {
        "id": "y0I5WVnJwY6W"
      },
      "execution_count": null,
      "outputs": []
    },
    {
      "cell_type": "code",
      "source": [
        "21. Why is NumPy's array slicing faster than Python's list slicing?\n",
        "Answer:\n",
        "\n",
        "NumPy's array slicing is significantly faster than Python's list slicing primarily due to:\n",
        "\n",
        "Memory Contiguity: NumPy arrays store elements of the same data type contiguously in memory. This allows for highly efficient low-level (C/Fortran) memory access and processing. Python lists, on the other hand, store pointers to objects that can be scattered in memory.\n",
        "\n",
        "Views vs. Copies: When you slice a NumPy array, it often returns a \"view\" of the original array (i.e., a new array object that refers to the same underlying data). This avoids the overhead of creating a new copy of the data, saving both time and memory. Python list slicing always creates a new list, copying the elements.\n",
        "\n",
        "Optimized Implementations: NumPy's slicing operations are implemented in highly optimized C code, leveraging efficient memory access patterns. Python list slicing is handled at a higher, less optimized level."
      ],
      "metadata": {
        "id": "Qdn-3wPcwexr"
      },
      "execution_count": null,
      "outputs": []
    },
    {
      "cell_type": "code",
      "source": [
        "22. What are some common use cases for Seaborn?\n",
        "Answer:\n",
        "\n",
        "Seaborn is excellent for various statistical visualization tasks:\n",
        "\n",
        "Exploring Distributions: Plotting histograms, kernel density estimates (KDEs), and box plots to understand the distribution of variables.\n",
        "\n",
        "Visualizing Relationships: Creating scatter plots, line plots, and regression plots to show relationships between numerical variables.\n",
        "\n",
        "Categorical Data Visualization: Generating bar plots, count plots, and box plots for comparing data across different categories.\n",
        "\n",
        "Heatmaps: Visualizing correlation matrices or general matrix data to identify patterns.\n",
        "\n",
        "Pair Plots: Getting a quick overview of pairwise relationships between all numerical variables in a dataset.\n",
        "\n",
        "Time Series Plots: Although Matplotlib is the base, Seaborn can often make time series plots more aesthetically pleasing and integrate well with Pandas' time series features.\n",
        "\n",
        "Facet Grids: Creating grids of plots that show relationships conditioned on different levels of categorical variables."
      ],
      "metadata": {
        "id": "G9jZhWylwjWT"
      },
      "execution_count": null,
      "outputs": []
    },
    {
      "cell_type": "markdown",
      "source": [
        "PRACTICAL QUESTIONS"
      ],
      "metadata": {
        "id": "SssftYGyws0n"
      }
    },
    {
      "cell_type": "code",
      "source": [
        "1. How do you create a 2D NumPy array and calculate the sum of each row?\n",
        "import numpy as np\n",
        "\n",
        "arr = np.array([[1, 2, 3], [4, 5, 6]])\n",
        "row_sums = np.sum(arr, axis=1)\n",
        "print(\"Row sums:\", row_sums)"
      ],
      "metadata": {
        "colab": {
          "base_uri": "https://localhost:8080/"
        },
        "id": "4lB9OlKUwv_Q",
        "outputId": "4ee8fe37-54f5-48ba-f359-4feb7e38f082"
      },
      "execution_count": 1,
      "outputs": [
        {
          "output_type": "stream",
          "name": "stdout",
          "text": [
            "Object `row` not found.\n",
            "Row sums: [ 6 15]\n"
          ]
        }
      ]
    },
    {
      "cell_type": "code",
      "source": [
        "2. Write a Pandas script to find the mean of a specific column in a DataFrame.\n",
        "Answer:"
      ],
      "metadata": {
        "id": "ZTJ4mK286Ra4"
      },
      "execution_count": null,
      "outputs": []
    },
    {
      "cell_type": "code",
      "source": [
        "import pandas as pd\n",
        "\n",
        "df = pd.DataFrame({'A': [1, 2, 3], 'B': [4, 5, 6]})\n",
        "mean_A = df['A'].mean()\n",
        "print(\"Mean of column A:\", mean_A)"
      ],
      "metadata": {
        "colab": {
          "base_uri": "https://localhost:8080/"
        },
        "id": "3EaINKns6SjO",
        "outputId": "6cd212b0-e4cf-4822-c595-0c862991c56a"
      },
      "execution_count": 13,
      "outputs": [
        {
          "output_type": "stream",
          "name": "stdout",
          "text": [
            "Mean of column A: 2.0\n"
          ]
        }
      ]
    },
    {
      "cell_type": "code",
      "source": [
        "3. A Create a scatter plot using Matplotlib.\n",
        "Answer:"
      ],
      "metadata": {
        "id": "Yp0dc0wK6WTF"
      },
      "execution_count": null,
      "outputs": []
    },
    {
      "cell_type": "code",
      "source": [
        "import matplotlib.pyplot as plt\n",
        "\n",
        "x = [1, 2, 3, 4]\n",
        "y = [10, 20, 25, 30]\n",
        "plt.scatter(x, y)\n",
        "plt.title(\"Scatter Plot\")\n",
        "plt.xlabel(\"X Axis\")\n",
        "plt.ylabel(\"Y Axis\")\n",
        "plt.show()"
      ],
      "metadata": {
        "colab": {
          "base_uri": "https://localhost:8080/",
          "height": 472
        },
        "id": "V9dV1ruQ6tDU",
        "outputId": "fcc8da56-19d9-4b1d-a294-ce20be41c241"
      },
      "execution_count": 14,
      "outputs": [
        {
          "output_type": "display_data",
          "data": {
            "text/plain": [
              "<Figure size 640x480 with 1 Axes>"
            ],
            "image/png": "[encoded data removed]"
          },
          "metadata": {}
        }
      ]
    },
    {
      "cell_type": "code",
      "source": [
        "4. How do you calculate the correlation matrix using Seaborn and visualize it with a heatmap?\n",
        "Answer:"
      ],
      "metadata": {
        "id": "GkkXVSOj6x8e"
      },
      "execution_count": null,
      "outputs": []
    },
    {
      "cell_type": "code",
      "source": [
        "import seaborn as sns\n",
        "\n",
        "df = pd.DataFrame(np.random.rand(5, 3), columns=['A', 'B', 'C'])\n",
        "corr = df.corr()\n",
        "sns.heatmap(corr, annot=True, cmap='coolwarm')\n",
        "plt.show()"
      ],
      "metadata": {
        "colab": {
          "base_uri": "https://localhost:8080/",
          "height": 435
        },
        "id": "leEsXWLV69pO",
        "outputId": "6d3670e1-25b2-4903-d023-41a126f84e53"
      },
      "execution_count": 15,
      "outputs": [
        {
          "output_type": "display_data",
          "data": {
            "text/plain": [
              "<Figure size 640x480 with 2 Axes>"
            ],
            "image/png": "[encoded data removed]"
          },
          "metadata": {}
        }
      ]
    },
    {
      "cell_type": "code",
      "source": [
        "5. Generate a bar plot using Plotly.\n",
        "Answer:"
      ],
      "metadata": {
        "id": "mp2qQzEA7Pur"
      },
      "execution_count": null,
      "outputs": []
    },
    {
      "cell_type": "code",
      "source": [
        "import plotly.express as px\n",
        "\n",
        "data = {'Fruits': ['Apples', 'Bananas', 'Oranges'], 'Quantity': [15, 30, 20]}\n",
        "df = pd.DataFrame(data)\n",
        "fig = px.bar(df, x='Fruits', y='Quantity', title='Fruit Quantities')\n",
        "fig.show()"
      ],
      "metadata": {
        "id": "VLJjc-2q7iND"
      },
      "execution_count": null,
      "outputs": []
    },
    {
      "cell_type": "code",
      "source": [
        "6. Create a DataFrame and add a new column based on an existing column.\n",
        "Answer:"
      ],
      "metadata": {
        "id": "z7SD2yU67nlN"
      },
      "execution_count": null,
      "outputs": []
    },
    {
      "cell_type": "code",
      "source": [
        "df = pd.DataFrame({'A': [1, 2, 3]})\n",
        "df['B'] = df['A'] * 2\n",
        "print(df)"
      ],
      "metadata": {
        "colab": {
          "base_uri": "https://localhost:8080/"
        },
        "id": "SqKLFBUR7xYC",
        "outputId": "4001836a-018c-46e8-8747-f253c990f430"
      },
      "execution_count": 16,
      "outputs": [
        {
          "output_type": "stream",
          "name": "stdout",
          "text": [
            "   A  B\n",
            "0  1  2\n",
            "1  2  4\n",
            "2  3  6\n"
          ]
        }
      ]
    },
    {
      "cell_type": "code",
      "source": [
        "7. Write a program to perform element-wise multiplication of two NumPy arrays.\n",
        "Answer:"
      ],
      "metadata": {
        "id": "IJav-lGB7x_P"
      },
      "execution_count": null,
      "outputs": []
    },
    {
      "cell_type": "code",
      "source": [
        "a = np.array([1, 2, 3])\n",
        "b = np.array([4, 5, 6])\n",
        "result = a * b\n",
        "print(\"Element-wise multiplication:\", result)"
      ],
      "metadata": {
        "colab": {
          "base_uri": "https://localhost:8080/"
        },
        "id": "tNjNWlVm75xF",
        "outputId": "b2d4eb2c-9f30-4602-d45b-1c9d397ce997"
      },
      "execution_count": 17,
      "outputs": [
        {
          "output_type": "stream",
          "name": "stdout",
          "text": [
            "Element-wise multiplication: [ 4 10 18]\n"
          ]
        }
      ]
    },
    {
      "cell_type": "code",
      "source": [
        "8. Create a line plot with multiple lines using Matplotlib.\n",
        "Answer:"
      ],
      "metadata": {
        "id": "XHINjB-B78sy"
      },
      "execution_count": null,
      "outputs": []
    },
    {
      "cell_type": "code",
      "source": [
        "x = [1, 2, 3, 4]\n",
        "y1 = [10, 20, 30, 40]\n",
        "y2 = [40, 30, 20, 10]\n",
        "plt.plot(x, y1, label='Line 1')\n",
        "plt.plot(x, y2, label='Line 2')\n",
        "plt.legend()\n",
        "plt.title(\"Multiple Lines\")\n",
        "plt.show()"
      ],
      "metadata": {
        "colab": {
          "base_uri": "https://localhost:8080/",
          "height": 452
        },
        "id": "-o_oaO1y8A-r",
        "outputId": "5900112d-5a07-4079-aa15-58b4431b936d"
      },
      "execution_count": 18,
      "outputs": [
        {
          "output_type": "display_data",
          "data": {
            "text/plain": [
              "<Figure size 640x480 with 1 Axes>"
            ],
            "image/png": "[encoded data removed]"
          },
          "metadata": {}
        }
      ]
    },
    {
      "cell_type": "code",
      "source": [
        "9. Generate a Pandas DataFrame and filter rows where a column value is greater than a threshold.\n",
        "Answer:"
      ],
      "metadata": {
        "id": "MlY62ilr8HCK"
      },
      "execution_count": null,
      "outputs": []
    },
    {
      "cell_type": "code",
      "source": [
        "df = pd.DataFrame({'A': [10, 20, 5, 30]})\n",
        "filtered_df = df[df['A'] > 15]\n",
        "print(filtered_df)\n",
        ""
      ],
      "metadata": {
        "colab": {
          "base_uri": "https://localhost:8080/"
        },
        "id": "1bKDEdYr8MHF",
        "outputId": "6a209237-1cdf-41c7-f122-a48f52f8fe10"
      },
      "execution_count": 19,
      "outputs": [
        {
          "output_type": "stream",
          "name": "stdout",
          "text": [
            "    A\n",
            "1  20\n",
            "3  30\n"
          ]
        }
      ]
    },
    {
      "cell_type": "code",
      "source": [
        "10. Create a histogram using Seaborn to visualize a distribution.\n",
        "Answer:"
      ],
      "metadata": {
        "id": "j4h3-XhQ8Pvq"
      },
      "execution_count": null,
      "outputs": []
    },
    {
      "cell_type": "code",
      "source": [
        "sns.histplot(df['A'], bins=5, kde=True)\n",
        "plt.title(\"Histogram\")\n",
        "plt.show()\n",
        ""
      ],
      "metadata": {
        "colab": {
          "base_uri": "https://localhost:8080/",
          "height": 472
        },
        "id": "WHKVUtXO8Q1W",
        "outputId": "8fb3fb07-c9f7-4f82-f7bf-3709cee80484"
      },
      "execution_count": 20,
      "outputs": [
        {
          "output_type": "display_data",
          "data": {
            "text/plain": [
              "<Figure size 640x480 with 1 Axes>"
            ],
            "image/png": "[encoded data removed]"
          },
          "metadata": {}
        }
      ]
    },
    {
      "cell_type": "code",
      "source": [
        "11. Perform matrix multiplication using NumPy.\n",
        "Answer:"
      ],
      "metadata": {
        "id": "4y8o2aJm8cZd"
      },
      "execution_count": null,
      "outputs": []
    },
    {
      "cell_type": "code",
      "source": [
        "mat1 = np.array([[1, 2], [3, 4]])\n",
        "mat2 = np.array([[5, 6], [7, 8]])\n",
        "product = np.dot(mat1, mat2)\n",
        "print(\"Matrix multiplication result:\\n\", product)\n",
        ""
      ],
      "metadata": {
        "colab": {
          "base_uri": "https://localhost:8080/"
        },
        "id": "ytF7IMix8gV6",
        "outputId": "9aad11fd-98d3-4d44-8794-1518343e619c"
      },
      "execution_count": 21,
      "outputs": [
        {
          "output_type": "stream",
          "name": "stdout",
          "text": [
            "Matrix multiplication result:\n",
            " [[19 22]\n",
            " [43 50]]\n"
          ]
        }
      ]
    },
    {
      "cell_type": "code",
      "source": [
        "12. Use Pandas to load a CSV file and display its first 5 rows.\n",
        "Answer:"
      ],
      "metadata": {
        "id": "gld3kU778jOu"
      },
      "execution_count": null,
      "outputs": []
    },
    {
      "cell_type": "code",
      "source": [
        "!pip install pandas"
      ],
      "metadata": {
        "colab": {
          "base_uri": "https://localhost:8080/"
        },
        "id": "xYgdl9OH9O-4",
        "outputId": "5077404e-2312-4560-b605-425b0ab06a0f"
      },
      "execution_count": 25,
      "outputs": [
        {
          "output_type": "stream",
          "name": "stdout",
          "text": [
            "Requirement already satisfied: pandas in /usr/local/lib/python3.11/dist-packages (2.2.2)\n",
            "Requirement already satisfied: numpy>=1.23.2 in /usr/local/lib/python3.11/dist-packages (from pandas) (2.0.2)\n",
            "Requirement already satisfied: python-dateutil>=2.8.2 in /usr/local/lib/python3.11/dist-packages (from pandas) (2.9.0.post0)\n",
            "Requirement already satisfied: pytz>=2020.1 in /usr/local/lib/python3.11/dist-packages (from pandas) (2025.2)\n",
            "Requirement already satisfied: tzdata>=2022.7 in /usr/local/lib/python3.11/dist-packages (from pandas) (2025.2)\n",
            "Requirement already satisfied: six>=1.5 in /usr/local/lib/python3.11/dist-packages (from python-dateutil>=2.8.2->pandas) (1.17.0)\n"
          ]
        }
      ]
    },
    {
      "cell_type": "code",
      "source": [
        "import pandas as pd"
      ],
      "metadata": {
        "id": "_mWGZJe09R4J"
      },
      "execution_count": null,
      "outputs": []
    },
    {
      "cell_type": "code",
      "source": [
        "# Create a sample DataFrame\n",
        "data = {\n",
        "    'Name': ['Abhijeet', 'Lucky', 'Vidhi', 'Rohan', 'Mugdha'],\n",
        "    'Age': [23, 24, 23, 25, 24],\n",
        "    'City': ['Ranchi', 'Noida', 'Banglure', 'New Delhi', 'Patna']\n",
        "}\n",
        "\n",
        "df = pd.DataFrame(data)\n",
        "\n",
        "# Save it as a CSV file\n",
        "df.to_csv('sample.csv', index=False)\n",
        "\n",
        "# Load the CSV file using pandas\n",
        "loaded_df = pd.read_csv('sample.csv')\n",
        "\n",
        "# Display the first 5 rows\n",
        "print(loaded_df.head())"
      ],
      "metadata": {
        "colab": {
          "base_uri": "https://localhost:8080/"
        },
        "id": "0BCw91l79e3q",
        "outputId": "f2cfe71b-577e-454a-97f6-1cf5f0c689b5"
      },
      "execution_count": 26,
      "outputs": [
        {
          "output_type": "stream",
          "name": "stdout",
          "text": [
            "       Name  Age       City\n",
            "0  Abhijeet   23     Ranchi\n",
            "1     Lucky   24      Noida\n",
            "2     Vidhi   23   Banglure\n",
            "3     Rohan   25  New Delhi\n",
            "4    Mugdha   24      Patna\n"
          ]
        }
      ]
    },
    {
      "cell_type": "code",
      "source": [
        "13. Create a 3D scatter plot using Plotly.\n",
        "Answer:"
      ],
      "metadata": {
        "id": "HtXkla3H9lXt"
      },
      "execution_count": null,
      "outputs": []
    },
    {
      "cell_type": "code",
      "source": [
        "import plotly.graph_objects as go\n",
        "\n",
        "fig = go.Figure(data=[go.Scatter3d(\n",
        "    x=[1, 2, 3],\n",
        "    y=[4, 5, 6],\n",
        "    z=[7, 8, 9],\n",
        "    mode='markers'\n",
        ")])\n",
        "fig.update_layout(title='3D Scatter Plot')\n",
        "fig.show()"
      ],
      "metadata": {
        "colab": {
          "base_uri": "https://localhost:8080/",
          "height": 542
        },
        "id": "T_u_zsF-9wN-",
        "outputId": "d5a0adff-90b9-4467-c602-2d8ad6f412e0"
      },
      "execution_count": 27,
      "outputs": [
        {
          "output_type": "display_data",
          "data": {
            "text/html": [
              "<html>\n",
              "<head><meta charset=\"utf-8\" /></head>\n",
              "<body>\n",
              "    <div>            <script src=\"https://cdnjs.cloudflare.com/ajax/libs/mathjax/2.7.5/MathJax.js?config=TeX-AMS-MML_SVG\"></script><script type=\"text/javascript\">if (window.MathJax && window.MathJax.Hub && window.MathJax.Hub.Config) {window.MathJax.Hub.Config({SVG: {font: \"STIX-Web\"}});}</script>                <script type=\"text/javascript\">window.PlotlyConfig = {MathJaxConfig: 'local'};</script>\n",
              "        <script charset=\"utf-8\" src=\"https://cdn.plot.ly/plotly-2.35.2.min.js\"></script>                <div id=\"243ef2cb-2562-4a45-b3a7-d72ed93a957c\" class=\"plotly-graph-div\" style=\"height:525px; width:100%;\"></div>            <script type=\"text/javascript\">                                    window.PLOTLYENV=window.PLOTLYENV || {};                                    if (document.getElementById(\"243ef2cb-2562-4a45-b3a7-d72ed93a957c\")) {                    Plotly.newPlot(                        \"243ef2cb-2562-4a45-b3a7-d72ed93a957c\",                        [{\"mode\":\"markers\",\"x\":[1,2,3],\"y\":[4,5,6],\"z\":[7,8,9],\"type\":\"scatter3d\"}],                        {\"template\":{\"data\":{\"histogram2dcontour\":[{\"type\":\"histogram2dcontour\",\"colorbar\":{\"outlinewidth\":0,\"ticks\":\"\"},\"colorscale\":[[0.0,\"#0d0887\"],[0.1111111111111111,\"#46039f\"],[0.2222222222222222,\"#7201a8\"],[0.3333333333333333,\"#9c179e\"],[0.4444444444444444,\"#bd3786\"],[0.5555555555555556,\"#d8576b\"],[0.6666666666666666,\"#ed7953\"],[0.7777777777777778,\"#fb9f3a\"],[0.8888888888888888,\"#fdca26\"],[1.0,\"#f0f921\"]]}],\"choropleth\":[{\"type\":\"choropleth\",\"colorbar\":{\"outlinewidth\":0,\"ticks\":\"\"}}],\"histogram2d\":[{\"type\":\"histogram2d\",\"colorbar\":{\"outlinewidth\":0,\"ticks\":\"\"},\"colorscale\":[[0.0,\"#0d0887\"],[0.1111111111111111,\"#46039f\"],[0.2222222222222222,\"#7201a8\"],[0.3333333333333333,\"#9c179e\"],[0.4444444444444444,\"#bd3786\"],[0.5555555555555556,\"#d8576b\"],[0.6666666666666666,\"#ed7953\"],[0.7777777777777778,\"#fb9f3a\"],[0.8888888888888888,\"#fdca26\"],[1.0,\"#f0f921\"]]}],\"heatmap\":[{\"type\":\"heatmap\",\"colorbar\":{\"outlinewidth\":0,\"ticks\":\"\"},\"colorscale\":[[0.0,\"#0d0887\"],[0.1111111111111111,\"#46039f\"],[0.2222222222222222,\"#7201a8\"],[0.3333333333333333,\"#9c179e\"],[0.4444444444444444,\"#bd3786\"],[0.5555555555555556,\"#d8576b\"],[0.6666666666666666,\"#ed7953\"],[0.7777777777777778,\"#fb9f3a\"],[0.8888888888888888,\"#fdca26\"],[1.0,\"#f0f921\"]]}],\"heatmapgl\":[{\"type\":\"heatmapgl\",\"colorbar\":{\"outlinewidth\":0,\"ticks\":\"\"},\"colorscale\":[[0.0,\"#0d0887\"],[0.1111111111111111,\"#46039f\"],[0.2222222222222222,\"#7201a8\"],[0.3333333333333333,\"#9c179e\"],[0.4444444444444444,\"#bd3786\"],[0.5555555555555556,\"#d8576b\"],[0.6666666666666666,\"#ed7953\"],[0.7777777777777778,\"#fb9f3a\"],[0.8888888888888888,\"#fdca26\"],[1.0,\"#f0f921\"]]}],\"contourcarpet\":[{\"type\":\"contourcarpet\",\"colorbar\":{\"outlinewidth\":0,\"ticks\":\"\"}}],\"contour\":[{\"type\":\"contour\",\"colorbar\":{\"outlinewidth\":0,\"ticks\":\"\"},\"colorscale\":[[0.0,\"#0d0887\"],[0.1111111111111111,\"#46039f\"],[0.2222222222222222,\"#7201a8\"],[0.3333333333333333,\"#9c179e\"],[0.4444444444444444,\"#bd3786\"],[0.5555555555555556,\"#d8576b\"],[0.6666666666666666,\"#ed7953\"],[0.7777777777777778,\"#fb9f3a\"],[0.8888888888888888,\"#fdca26\"],[1.0,\"#f0f921\"]]}],\"surface\":[{\"type\":\"surface\",\"colorbar\":{\"outlinewidth\":0,\"ticks\":\"\"},\"colorscale\":[[0.0,\"#0d0887\"],[0.1111111111111111,\"#46039f\"],[0.2222222222222222,\"#7201a8\"],[0.3333333333333333,\"#9c179e\"],[0.4444444444444444,\"#bd3786\"],[0.5555555555555556,\"#d8576b\"],[0.6666666666666666,\"#ed7953\"],[0.7777777777777778,\"#fb9f3a\"],[0.8888888888888888,\"#fdca26\"],[1.0,\"#f0f921\"]]}],\"mesh3d\":[{\"type\":\"mesh3d\",\"colorbar\":{\"outlinewidth\":0,\"ticks\":\"\"}}],\"scatter\":[{\"fillpattern\":{\"fillmode\":\"overlay\",\"size\":10,\"solidity\":0.2},\"type\":\"scatter\"}],\"parcoords\":[{\"type\":\"parcoords\",\"line\":{\"colorbar\":{\"outlinewidth\":0,\"ticks\":\"\"}}}],\"scatterpolargl\":[{\"type\":\"scatterpolargl\",\"marker\":{\"colorbar\":{\"outlinewidth\":0,\"ticks\":\"\"}}}],\"bar\":[{\"error_x\":{\"color\":\"#2a3f5f\"},\"error_y\":{\"color\":\"#2a3f5f\"},\"marker\":{\"line\":{\"color\":\"#E5ECF6\",\"width\":0.5},\"pattern\":{\"fillmode\":\"overlay\",\"size\":10,\"solidity\":0.2}},\"type\":\"bar\"}],\"scattergeo\":[{\"type\":\"scattergeo\",\"marker\":{\"colorbar\":{\"outlinewidth\":0,\"ticks\":\"\"}}}],\"scatterpolar\":[{\"type\":\"scatterpolar\",\"marker\":{\"colorbar\":{\"outlinewidth\":0,\"ticks\":\"\"}}}],\"histogram\":[{\"marker\":{\"pattern\":{\"fillmode\":\"overlay\",\"size\":10,\"solidity\":0.2}},\"type\":\"histogram\"}],\"scattergl\":[{\"type\":\"scattergl\",\"marker\":{\"colorbar\":{\"outlinewidth\":0,\"ticks\":\"\"}}}],\"scatter3d\":[{\"type\":\"scatter3d\",\"line\":{\"colorbar\":{\"outlinewidth\":0,\"ticks\":\"\"}},\"marker\":{\"colorbar\":{\"outlinewidth\":0,\"ticks\":\"\"}}}],\"scattermapbox\":[{\"type\":\"scattermapbox\",\"marker\":{\"colorbar\":{\"outlinewidth\":0,\"ticks\":\"\"}}}],\"scatterternary\":[{\"type\":\"scatterternary\",\"marker\":{\"colorbar\":{\"outlinewidth\":0,\"ticks\":\"\"}}}],\"scattercarpet\":[{\"type\":\"scattercarpet\",\"marker\":{\"colorbar\":{\"outlinewidth\":0,\"ticks\":\"\"}}}],\"carpet\":[{\"aaxis\":{\"endlinecolor\":\"#2a3f5f\",\"gridcolor\":\"white\",\"linecolor\":\"white\",\"minorgridcolor\":\"white\",\"startlinecolor\":\"#2a3f5f\"},\"baxis\":{\"endlinecolor\":\"#2a3f5f\",\"gridcolor\":\"white\",\"linecolor\":\"white\",\"minorgridcolor\":\"white\",\"startlinecolor\":\"#2a3f5f\"},\"type\":\"carpet\"}],\"table\":[{\"cells\":{\"fill\":{\"color\":\"#EBF0F8\"},\"line\":{\"color\":\"white\"}},\"header\":{\"fill\":{\"color\":\"#C8D4E3\"},\"line\":{\"color\":\"white\"}},\"type\":\"table\"}],\"barpolar\":[{\"marker\":{\"line\":{\"color\":\"#E5ECF6\",\"width\":0.5},\"pattern\":{\"fillmode\":\"overlay\",\"size\":10,\"solidity\":0.2}},\"type\":\"barpolar\"}],\"pie\":[{\"automargin\":true,\"type\":\"pie\"}]},\"layout\":{\"autotypenumbers\":\"strict\",\"colorway\":[\"#636efa\",\"#EF553B\",\"#00cc96\",\"#ab63fa\",\"#FFA15A\",\"#19d3f3\",\"#FF6692\",\"#B6E880\",\"#FF97FF\",\"#FECB52\"],\"font\":{\"color\":\"#2a3f5f\"},\"hovermode\":\"closest\",\"hoverlabel\":{\"align\":\"left\"},\"paper_bgcolor\":\"white\",\"plot_bgcolor\":\"#E5ECF6\",\"polar\":{\"bgcolor\":\"#E5ECF6\",\"angularaxis\":{\"gridcolor\":\"white\",\"linecolor\":\"white\",\"ticks\":\"\"},\"radialaxis\":{\"gridcolor\":\"white\",\"linecolor\":\"white\",\"ticks\":\"\"}},\"ternary\":{\"bgcolor\":\"#E5ECF6\",\"aaxis\":{\"gridcolor\":\"white\",\"linecolor\":\"white\",\"ticks\":\"\"},\"baxis\":{\"gridcolor\":\"white\",\"linecolor\":\"white\",\"ticks\":\"\"},\"caxis\":{\"gridcolor\":\"white\",\"linecolor\":\"white\",\"ticks\":\"\"}},\"coloraxis\":{\"colorbar\":{\"outlinewidth\":0,\"ticks\":\"\"}},\"colorscale\":{\"sequential\":[[0.0,\"#0d0887\"],[0.1111111111111111,\"#46039f\"],[0.2222222222222222,\"#7201a8\"],[0.3333333333333333,\"#9c179e\"],[0.4444444444444444,\"#bd3786\"],[0.5555555555555556,\"#d8576b\"],[0.6666666666666666,\"#ed7953\"],[0.7777777777777778,\"#fb9f3a\"],[0.8888888888888888,\"#fdca26\"],[1.0,\"#f0f921\"]],\"sequentialminus\":[[0.0,\"#0d0887\"],[0.1111111111111111,\"#46039f\"],[0.2222222222222222,\"#7201a8\"],[0.3333333333333333,\"#9c179e\"],[0.4444444444444444,\"#bd3786\"],[0.5555555555555556,\"#d8576b\"],[0.6666666666666666,\"#ed7953\"],[0.7777777777777778,\"#fb9f3a\"],[0.8888888888888888,\"#fdca26\"],[1.0,\"#f0f921\"]],\"diverging\":[[0,\"#8e0152\"],[0.1,\"#c51b7d\"],[0.2,\"#de77ae\"],[0.3,\"#f1b6da\"],[0.4,\"#fde0ef\"],[0.5,\"#f7f7f7\"],[0.6,\"#e6f5d0\"],[0.7,\"#b8e186\"],[0.8,\"#7fbc41\"],[0.9,\"#4d9221\"],[1,\"#276419\"]]},\"xaxis\":{\"gridcolor\":\"white\",\"linecolor\":\"white\",\"ticks\":\"\",\"title\":{\"standoff\":15},\"zerolinecolor\":\"white\",\"automargin\":true,\"zerolinewidth\":2},\"yaxis\":{\"gridcolor\":\"white\",\"linecolor\":\"white\",\"ticks\":\"\",\"title\":{\"standoff\":15},\"zerolinecolor\":\"white\",\"automargin\":true,\"zerolinewidth\":2},\"scene\":{\"xaxis\":{\"backgroundcolor\":\"#E5ECF6\",\"gridcolor\":\"white\",\"linecolor\":\"white\",\"showbackground\":true,\"ticks\":\"\",\"zerolinecolor\":\"white\",\"gridwidth\":2},\"yaxis\":{\"backgroundcolor\":\"#E5ECF6\",\"gridcolor\":\"white\",\"linecolor\":\"white\",\"showbackground\":true,\"ticks\":\"\",\"zerolinecolor\":\"white\",\"gridwidth\":2},\"zaxis\":{\"backgroundcolor\":\"#E5ECF6\",\"gridcolor\":\"white\",\"linecolor\":\"white\",\"showbackground\":true,\"ticks\":\"\",\"zerolinecolor\":\"white\",\"gridwidth\":2}},\"shapedefaults\":{\"line\":{\"color\":\"#2a3f5f\"}},\"annotationdefaults\":{\"arrowcolor\":\"#2a3f5f\",\"arrowhead\":0,\"arrowwidth\":1},\"geo\":{\"bgcolor\":\"white\",\"landcolor\":\"#E5ECF6\",\"subunitcolor\":\"white\",\"showland\":true,\"showlakes\":true,\"lakecolor\":\"white\"},\"title\":{\"x\":0.05},\"mapbox\":{\"style\":\"light\"}}},\"title\":{\"text\":\"3D Scatter Plot\"}},                        {\"responsive\": true}                    ).then(function(){\n",
              "                            \n",
              "var gd = document.getElementById('243ef2cb-2562-4a45-b3a7-d72ed93a957c');\n",
              "var x = new MutationObserver(function (mutations, observer) {{\n",
              "        var display = window.getComputedStyle(gd).display;\n",
              "        if (!display || display === 'none') {{\n",
              "            console.log([gd, 'removed!']);\n",
              "            Plotly.purge(gd);\n",
              "            observer.disconnect();\n",
              "        }}\n",
              "}});\n",
              "\n",
              "// Listen for the removal of the full notebook cells\n",
              "var notebookContainer = gd.closest('#notebook-container');\n",
              "if (notebookContainer) {{\n",
              "    x.observe(notebookContainer, {childList: true});\n",
              "}}\n",
              "\n",
              "// Listen for the clearing of the current output cell\n",
              "var outputEl = gd.closest('.output');\n",
              "if (outputEl) {{\n",
              "    x.observe(outputEl, {childList: true});\n",
              "}}\n",
              "\n",
              "                        })                };                            </script>        </div>\n",
              "</body>\n",
              "</html>"
            ]
          },
          "metadata": {}
        }
      ]
    },
    {
      "cell_type": "code",
      "source": [],
      "metadata": {
        "id": "0X_Cfb8H90PK"
      },
      "execution_count": null,
      "outputs": []
    }
  ]
}